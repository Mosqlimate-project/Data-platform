{
 "cells": [
  {
   "cell_type": "markdown",
   "id": "56c03f85-9368-47d0-bb41-8b8ad996d14c",
   "metadata": {},
   "source": [
    "Asynchronous requests are useful when there are too many `pages` to fetch synchronously. It speeds up the request by several times and can be used in any request throughout Mosqlimate API. The example below is written in Python.\n",
    "\n",
    "Requirements:\n",
    "- [aiohttp](https://docs.aiohttp.org/en/stable/)"
   ]
  },
  {
   "cell_type": "markdown",
   "id": "bc6abb9b-b3f7-4a6c-8805-cf092572d876",
   "metadata": {},
   "source": [
    "The first thing that's important to take note, is that the response's pagination vary according to the request's parameters. So firstly, let's write down the parameters that will compose the call URL and get the pagination to this request"
   ]
  },
  {
   "cell_type": "code",
   "execution_count": 1,
   "id": "e61ae931-af1d-432a-b1c9-b399eec1cc1a",
   "metadata": {},
   "outputs": [],
   "source": [
    "url = \"https://api.mosqlimate.org/api/datastore/historico_alerta/?\"\n",
    "parameters = {\n",
    "    \"per_page\": 100,\n",
    "    \"disease\": \"dengue\",\n",
    "    \"start\": \"2022-01-01\",\n",
    "    \"end\": \"2023-01-01\"\n",
    "    # Optional parameters are included here\n",
    "}\n",
    "\n",
    "def compose_url(base_url: str, parameters: dict, page: int = 1) -> str:\n",
    "    \"\"\"Helper method to compose the API url with parameters\"\"\"\n",
    "    url = base_url + \"?\" if not base_url.endswith(\"?\") else base_url\n",
    "    params = \"&\".join([f\"{p}={v}\" for p,v in parameters.items()]) + f\"&page={page}\"\n",
    "    return url + params"
   ]
  },
  {
   "cell_type": "code",
   "execution_count": 2,
   "id": "55b47a4d-45fd-4895-a288-c1398044ed5e",
   "metadata": {},
   "outputs": [
    {
     "data": {
      "text/plain": [
       "{'items': 100,\n",
       " 'total_items': 294733,\n",
       " 'page': 1,\n",
       " 'total_pages': 2948,\n",
       " 'per_page': 100}"
      ]
     },
     "execution_count": 2,
     "metadata": {},
     "output_type": "execute_result"
    }
   ],
   "source": [
    "import requests\n",
    "\n",
    "pagination = requests.get(compose_url(url, parameters)).json()['pagination']\n",
    "pagination"
   ]
  },
  {
   "cell_type": "markdown",
   "id": "73ca1c0e-4943-4aa6-9f26-be54a4ab72ae",
   "metadata": {},
   "source": [
    "To get all the data for the resquest, it would be necessary to loop through all the 2948 pages, which would take a (long) while if called synchronously. It's also important to note that adding filters helps to reduce the time to fetch the data, please refer to the documentation to see every specific request parameters"
   ]
  },
  {
   "cell_type": "code",
   "execution_count": 3,
   "id": "02bae587-d58d-410f-8cc7-f14b0dd7aa10",
   "metadata": {},
   "outputs": [],
   "source": [
    "import time\n",
    "\n",
    "import aiohttp\n",
    "import asyncio"
   ]
  },
  {
   "cell_type": "code",
   "execution_count": 4,
   "id": "562a8230-d28e-4648-88c0-02d1cd3c2e6b",
   "metadata": {},
   "outputs": [],
   "source": [
    "async def fetch_data(session: aiohttp.ClientSession, url: str):\n",
    "    \"\"\"Uses ClientSession to create the async call to the API\"\"\"\n",
    "    async with session.get(url) as response:\n",
    "        return await response.json()\n",
    "\n",
    "async def attempt_delay(session: aiohttp.ClientSession, url: str):\n",
    "    \"\"\"The request may fail. This method adds a delay to the failing requests\"\"\"\n",
    "    try:\n",
    "        return await fetch_data(session, url)\n",
    "    except Exception as e:\n",
    "        await asyncio.sleep(0.2)\n",
    "        return await attempt_delay(session, url)"
   ]
  },
  {
   "cell_type": "code",
   "execution_count": 5,
   "id": "dadbf818-3cf6-411a-ae7f-99376404a589",
   "metadata": {},
   "outputs": [],
   "source": [
    "async def get(base_url: str, parameters: dict) -> list:\n",
    "    st = time.time()\n",
    "    result = []\n",
    "    tasks = []\n",
    "    async with aiohttp.ClientSession() as session:\n",
    "        url = compose_url(base_url, parameters)\n",
    "        data = await attempt_delay(session, url)\n",
    "        total_pages = data[\"pagination\"][\"total_pages\"]\n",
    "        result.extend(data[\"items\"])\n",
    "\n",
    "        for page in range(2, total_pages + 1):\n",
    "            url = compose_url(base_url, parameters, page)\n",
    "            tasks.append(attempt_delay(session, url))\n",
    "\n",
    "        responses = await asyncio.gather(*tasks)\n",
    "        for resp in responses:\n",
    "            result.extend(resp[\"items\"])\n",
    "            \n",
    "    et = time.time()\n",
    "    print(f\"Took {et-st:.6f} seconds\")\n",
    "    return result"
   ]
  },
  {
   "cell_type": "code",
   "execution_count": 6,
   "id": "8b0a65df-a6cd-4575-9bd9-6cb18f67166a",
   "metadata": {},
   "outputs": [
    {
     "name": "stdout",
     "output_type": "stream",
     "text": [
      "Took 9.812477 seconds\n"
     ]
    }
   ],
   "source": [
    "data = await get(url, parameters)"
   ]
  },
  {
   "cell_type": "code",
   "execution_count": 8,
   "id": "f25a80cb-1937-4d24-85a4-b48b6116e4f2",
   "metadata": {},
   "outputs": [
    {
     "data": {
      "text/plain": [
       "{'data_iniSE': '2023-01-01',\n",
       " 'SE': 202301,\n",
       " 'casos_est': 2.0,\n",
       " 'casos_est_min': 2,\n",
       " 'casos_est_max': 2,\n",
       " 'casos': 2,\n",
       " 'municipio_geocodigo': 3200359,\n",
       " 'p_rt1': 0.9779825,\n",
       " 'p_inc100k': 25.400051,\n",
       " 'Localidade_id': 0,\n",
       " 'nivel': 1,\n",
       " 'id': 320035920230119571,\n",
       " 'versao_modelo': '2023-08-02',\n",
       " 'Rt': 18.521618,\n",
       " 'municipio_nome': 'Alto Rio Novo',\n",
       " 'pop': 7874.0,\n",
       " 'tempmin': 23.4285714285714,\n",
       " 'umidmax': 92.6344071428571,\n",
       " 'receptivo': 1,\n",
       " 'transmissao': 0,\n",
       " 'nivel_inc': 0,\n",
       " 'umidmed': 83.1366927142857,\n",
       " 'umidmin': 68.8928015714286,\n",
       " 'tempmed': 25.6071428571429,\n",
       " 'tempmax': 29.0,\n",
       " 'casprov': None,\n",
       " 'casprov_est': None,\n",
       " 'casprov_est_min': None,\n",
       " 'casprov_est_max': None,\n",
       " 'casconf': None}"
      ]
     },
     "execution_count": 8,
     "metadata": {},
     "output_type": "execute_result"
    }
   ],
   "source": [
    "data[0]"
   ]
  }
 ],
 "metadata": {
  "kernelspec": {
   "display_name": "Python 3 (ipykernel)",
   "language": "python",
   "name": "python3"
  },
  "language_info": {
   "codemirror_mode": {
    "name": "ipython",
    "version": 3
   },
   "file_extension": ".py",
   "mimetype": "text/x-python",
   "name": "python",
   "nbconvert_exporter": "python",
   "pygments_lexer": "ipython3",
   "version": "3.11.5"
  }
 },
 "nbformat": 4,
 "nbformat_minor": 5
}
