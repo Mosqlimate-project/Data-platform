{
 "cells": [
  {
   "cell_type": "markdown",
   "id": "503047fa-c33c-4ded-82ac-112729433859",
   "metadata": {},
   "source": [
    "# Registry API - GET requests with Python\n",
    "\n",
    "Python examples of how to retrieve data from Resgitry Mosqlimate API in JSON format. \\\n",
    "Please refer to the [API Demo](https://api.mosqlimate.org/api/docs) to a visual overview of all request methods."
   ]
  },
  {
   "cell_type": "code",
   "execution_count": 1,
   "id": "963fbed6-befd-47bf-ae05-bb5936a22633",
   "metadata": {},
   "outputs": [],
   "source": [
    "import requests"
   ]
  },
  {
   "cell_type": "code",
   "execution_count": 2,
   "id": "f96e2414-9d63-42a5-b7cc-0695fc8e7011",
   "metadata": {},
   "outputs": [],
   "source": [
    "base_url = \"http://0.0.0.0:8042/api/registry/\""
   ]
  },
  {
   "cell_type": "markdown",
   "id": "1a804926-7b7e-4dee-9cf8-af8f75efef28",
   "metadata": {},
   "source": [
    "---\n",
    "## Authors"
   ]
  },
  {
   "cell_type": "markdown",
   "id": "e47d047d-5b6a-4a36-a91f-3fb7e5f6ad6d",
   "metadata": {},
   "source": [
    "```\n",
    "name\n",
    "username\n",
    "institution\n",
    "```"
   ]
  },
  {
   "cell_type": "code",
   "execution_count": 3,
   "id": "4d135348-f532-46c5-951d-eb30c26d51d8",
   "metadata": {},
   "outputs": [],
   "source": [
    "authors_api = base_url + \"authors/\""
   ]
  },
  {
   "cell_type": "markdown",
   "id": "0954a2eb-ba92-4ea6-88f9-c779bc98e2f8",
   "metadata": {},
   "source": [
    "### List Authors\n",
    "\n",
    "If no username is passed to the API URL, the request retrieves a list of Authors"
   ]
  },
  {
   "cell_type": "code",
   "execution_count": 4,
   "id": "3056344a-35c8-4573-80a1-0638c56e4334",
   "metadata": {},
   "outputs": [
    {
     "data": {
      "text/plain": [
       "[{'user': {'name': 'Luã Bida Vacaro', 'username': 'luabida'},\n",
       "  'institution': None}]"
      ]
     },
     "execution_count": 4,
     "metadata": {},
     "output_type": "execute_result"
    }
   ],
   "source": [
    "requests.get(authors_api).json()"
   ]
  },
  {
   "cell_type": "markdown",
   "id": "7e851b5e-aaa2-40f3-8d8d-ac53ebb9038f",
   "metadata": {},
   "source": [
    "To retrieve a specific Author, an username should be added to the URL"
   ]
  },
  {
   "cell_type": "code",
   "execution_count": 5,
   "id": "ff3444bb-8dab-48f1-a044-d1f9e3e0a306",
   "metadata": {},
   "outputs": [
    {
     "data": {
      "text/plain": [
       "{'user': {'name': 'Luã Bida Vacaro', 'username': 'luabida'},\n",
       " 'institution': None}"
      ]
     },
     "execution_count": 5,
     "metadata": {},
     "output_type": "execute_result"
    }
   ],
   "source": [
    "requests.get(authors_api + \"luabida\").json()"
   ]
  },
  {
   "cell_type": "markdown",
   "id": "c6e80b12-3b59-49b3-a4cc-78078a7f59c6",
   "metadata": {},
   "source": [
    "---\n",
    "\n",
    "## Models"
   ]
  },
  {
   "cell_type": "markdown",
   "id": "32c6ba9a-1cd0-404e-b1c2-645a795d08b6",
   "metadata": {},
   "source": [
    "```\n",
    "id\n",
    "name\n",
    "author_name\n",
    "author_username\n",
    "author_institution\n",
    "repository\n",
    "implementation_language\n",
    "type\n",
    "```"
   ]
  },
  {
   "cell_type": "code",
   "execution_count": 6,
   "id": "e19a8285-f503-4317-82c6-903f6da3084c",
   "metadata": {},
   "outputs": [],
   "source": [
    "models_api = base_url + \"models/\"\n",
    "\n",
    "page = 2\n",
    "per_page = 1\n",
    "pagination = f\"?page={page}&per_page={per_page}&\""
   ]
  },
  {
   "cell_type": "markdown",
   "id": "ff658f05-1f40-421e-9df2-f7abbc60dfb6",
   "metadata": {},
   "source": [
    "Models use pagination to navigate between the amount of items from the request"
   ]
  },
  {
   "cell_type": "code",
   "execution_count": 7,
   "id": "a600733f-14fe-47b3-af6a-62ff028b8ac0",
   "metadata": {},
   "outputs": [
    {
     "data": {
      "text/plain": [
       "{'items': [{'id': 273,\n",
       "   'name': 'c',\n",
       "   'description': 'Some nice description here',\n",
       "   'author': {'user': {'name': 'Luã Bida Vacaro', 'username': 'luabida'},\n",
       "    'institution': None},\n",
       "   'repository': 'https://github.com/Mosqlimate-project/Data-platform',\n",
       "   'implementation_language': 'C',\n",
       "   'type': 'C test'}],\n",
       " 'pagination': {'items': 1,\n",
       "  'total_items': 600,\n",
       "  'page': 2,\n",
       "  'total_pages': 600,\n",
       "  'per_page': 1},\n",
       " 'message': ''}"
      ]
     },
     "execution_count": 7,
     "metadata": {},
     "output_type": "execute_result"
    }
   ],
   "source": [
    "requests.get(models_api + pagination).json()"
   ]
  },
  {
   "cell_type": "code",
   "execution_count": 8,
   "id": "7f1463fc-b636-4d00-9bcf-fb6185913af4",
   "metadata": {},
   "outputs": [
    {
     "data": {
      "text/plain": [
       "{'items': [{'id': 100,\n",
       "   'name': 'Test python 99',\n",
       "   'description': 'Some nice description here',\n",
       "   'author': {'user': {'name': 'Luã Bida Vacaro', 'username': 'luabida'},\n",
       "    'institution': None},\n",
       "   'repository': 'https://github.com/Mosqlimate-project/Data-platform',\n",
       "   'implementation_language': 'python',\n",
       "   'type': 'python test'}],\n",
       " 'pagination': {'items': 1,\n",
       "  'total_items': 100,\n",
       "  'page': 2,\n",
       "  'total_pages': 100,\n",
       "  'per_page': 1},\n",
       " 'message': ''}"
      ]
     },
     "execution_count": 8,
     "metadata": {},
     "output_type": "execute_result"
    }
   ],
   "source": [
    "requests.get(models_api + pagination + \"implementation_language=python\").json()"
   ]
  },
  {
   "cell_type": "code",
   "execution_count": 10,
   "id": "f313f14b-ec14-49c6-ae60-73d9ea259a07",
   "metadata": {},
   "outputs": [
    {
     "data": {
      "text/plain": [
       "'Incorrect page, displaying page 1'"
      ]
     },
     "execution_count": 10,
     "metadata": {},
     "output_type": "execute_result"
    }
   ],
   "source": [
    "requests.get(models_api + pagination + \"id=1\").json()['message']"
   ]
  },
  {
   "cell_type": "code",
   "execution_count": 11,
   "id": "8e622514-7627-4d47-8be7-e7a02b4ebae3",
   "metadata": {},
   "outputs": [
    {
     "data": {
      "text/plain": [
       "{'items': [{'id': 99,\n",
       "   'name': 'Test python 98',\n",
       "   'description': 'Some nice description here',\n",
       "   'author': {'user': {'name': 'Luã Bida Vacaro', 'username': 'luabida'},\n",
       "    'institution': None},\n",
       "   'repository': 'https://github.com/Mosqlimate-project/Data-platform',\n",
       "   'implementation_language': 'python',\n",
       "   'type': 'python test'}],\n",
       " 'pagination': {'items': 1,\n",
       "  'total_items': 99,\n",
       "  'page': 2,\n",
       "  'total_pages': 99,\n",
       "  'per_page': 1},\n",
       " 'message': ''}"
      ]
     },
     "execution_count": 11,
     "metadata": {},
     "output_type": "execute_result"
    }
   ],
   "source": [
    "requests.get(models_api + pagination + \"implementation_language=python\" + \"&\" + \"name=test\").json()"
   ]
  },
  {
   "cell_type": "code",
   "execution_count": null,
   "id": "f3af9cd4-db69-4c45-94b3-575bbbafc3b2",
   "metadata": {},
   "outputs": [],
   "source": []
  }
 ],
 "metadata": {
  "kernelspec": {
   "display_name": "Python 3 (ipykernel)",
   "language": "python",
   "name": "python3"
  },
  "language_info": {
   "codemirror_mode": {
    "name": "ipython",
    "version": 3
   },
   "file_extension": ".py",
   "mimetype": "text/x-python",
   "name": "python",
   "nbconvert_exporter": "python",
   "pygments_lexer": "ipython3",
   "version": "3.11.4"
  }
 },
 "nbformat": 4,
 "nbformat_minor": 5
}
